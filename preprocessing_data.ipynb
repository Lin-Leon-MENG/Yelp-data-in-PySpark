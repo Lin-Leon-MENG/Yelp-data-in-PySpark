{
 "cells": [
  {
   "cell_type": "code",
   "execution_count": 119,
   "metadata": {},
   "outputs": [],
   "source": [
    "from pyspark import SparkContext\n",
    "from pyspark.sql import SparkSession\n",
    "from pyspark.sql.functions import *\n",
    "\n",
    "import os\n",
    "import re\n",
    "from functools import reduce\n",
    "import pandas as pd"
   ]
  },
  {
   "cell_type": "code",
   "execution_count": 22,
   "metadata": {},
   "outputs": [],
   "source": [
    "sc = SparkContext.getOrCreate()\n",
    "ss = SparkSession.builder.getOrCreate()"
   ]
  },
  {
   "cell_type": "markdown",
   "metadata": {},
   "source": [
    "# Process business"
   ]
  },
  {
   "cell_type": "code",
   "execution_count": 17,
   "metadata": {},
   "outputs": [],
   "source": [
    "business = sc.textFile(\"s3n://usfca-distributedcomputing/yelp_business.csv\", 24)"
   ]
  },
  {
   "cell_type": "code",
   "execution_count": 18,
   "metadata": {},
   "outputs": [],
   "source": [
    "header = business.first()\n",
    "business = business.filter(lambda row: row != header)\n",
    "\n",
    "# Clean data before splitting\n",
    "business = business.map(lambda x: re.sub(',(?=[^\"]*\"[^\"]*(?:\"[^\"]*\"[^\"]*)*$)','', x))"
   ]
  },
  {
   "cell_type": "code",
   "execution_count": 19,
   "metadata": {},
   "outputs": [],
   "source": [
    "def toDoubleSafe(v):\n",
    "    try:\n",
    "        return float(v)\n",
    "    except ValueError:\n",
    "        return str(v)"
   ]
  },
  {
   "cell_type": "code",
   "execution_count": 20,
   "metadata": {},
   "outputs": [
    {
     "data": {
      "text/plain": [
       "[['FYWN1wneV18bWNgQjJ2GNg',\n",
       "  '\"\"\"Dental by Design\"\"\"',\n",
       "  '',\n",
       "  '\"\"\"4855 E Warner Rd Ste B9\"\"\"',\n",
       "  'Ahwatukee',\n",
       "  'AZ',\n",
       "  85044.0,\n",
       "  33.3306902,\n",
       "  -111.9785992,\n",
       "  4.0,\n",
       "  22.0,\n",
       "  1.0,\n",
       "  'Dentists;General Dentistry;Health & Medical;Oral Surgeons;Cosmetic Dentists;Orthodontists'],\n",
       " ['He-G7vWjzVUysIKrfNbPUQ',\n",
       "  '\"\"\"Stephen Szabo Salon\"\"\"',\n",
       "  '',\n",
       "  '\"\"\"3101 Washington Rd\"\"\"',\n",
       "  'McMurray',\n",
       "  'PA',\n",
       "  15317.0,\n",
       "  40.2916853,\n",
       "  -80.1048999,\n",
       "  3.0,\n",
       "  11.0,\n",
       "  1.0,\n",
       "  \"Hair Stylists;Hair Salons;Men's Hair Salons;Blow Dry/Out Services;Hair Extensions;Beauty & Spas\"]]"
      ]
     },
     "execution_count": 20,
     "metadata": {},
     "output_type": "execute_result"
    }
   ],
   "source": [
    "business = business.map(lambda x: x.split(','))\n",
    "business = business.map(lambda row: [toDoubleSafe(x) for x in row])\n",
    "business.take(2)"
   ]
  },
  {
   "cell_type": "code",
   "execution_count": 23,
   "metadata": {},
   "outputs": [],
   "source": [
    "business_df = ss.createDataFrame(business)"
   ]
  },
  {
   "cell_type": "code",
   "execution_count": 24,
   "metadata": {},
   "outputs": [
    {
     "name": "stdout",
     "output_type": "stream",
     "text": [
      "+--------------------+--------------------+---+--------------------+---------+---+-------+----------+------------+---+----+---+--------------------+\n",
      "|                  _1|                  _2| _3|                  _4|       _5| _6|     _7|        _8|          _9|_10| _11|_12|                 _13|\n",
      "+--------------------+--------------------+---+--------------------+---------+---+-------+----------+------------+---+----+---+--------------------+\n",
      "|FYWN1wneV18bWNgQj...|\"\"\"Dental by Desi...|   |\"\"\"4855 E Warner ...|Ahwatukee| AZ|85044.0|33.3306902|-111.9785992|4.0|22.0|1.0|Dentists;General ...|\n",
      "|He-G7vWjzVUysIKrf...|\"\"\"Stephen Szabo ...|   |\"\"\"3101 Washingto...| McMurray| PA|15317.0|40.2916853| -80.1048999|3.0|11.0|1.0|Hair Stylists;Hai...|\n",
      "|KQPW8lFf1y5BT2Mxi...|\"\"\"Western Motor ...|   |\"\"\"6025 N 27th Av...|  Phoenix| AZ|85017.0|33.5249025|-112.1153098|1.5|18.0|1.0|Departments of Mo...|\n",
      "+--------------------+--------------------+---+--------------------+---------+---+-------+----------+------------+---+----+---+--------------------+\n",
      "only showing top 3 rows\n",
      "\n"
     ]
    }
   ],
   "source": [
    "business_df.show(3)"
   ]
  },
  {
   "cell_type": "code",
   "execution_count": 32,
   "metadata": {},
   "outputs": [],
   "source": [
    "old_columns = business_df.schema.names\n",
    "new_columns = header.split(',')\n",
    "\n",
    "business_df = reduce(lambda data, idx: data.withColumnRenamed(old_columns[idx],\n",
    "                                                              new_columns[idx]),\n",
    "                     range(len(old_columns)), business_df)"
   ]
  },
  {
   "cell_type": "code",
   "execution_count": 33,
   "metadata": {},
   "outputs": [
    {
     "name": "stdout",
     "output_type": "stream",
     "text": [
      "+--------------------+--------------------+------------+--------------------+---------+-----+-----------+----------+------------+-----+------------+-------+--------------------+\n",
      "|         business_id|                name|neighborhood|             address|     city|state|postal_code|  latitude|   longitude|stars|review_count|is_open|          categories|\n",
      "+--------------------+--------------------+------------+--------------------+---------+-----+-----------+----------+------------+-----+------------+-------+--------------------+\n",
      "|FYWN1wneV18bWNgQj...|\"\"\"Dental by Desi...|            |\"\"\"4855 E Warner ...|Ahwatukee|   AZ|    85044.0|33.3306902|-111.9785992|  4.0|        22.0|    1.0|Dentists;General ...|\n",
      "|He-G7vWjzVUysIKrf...|\"\"\"Stephen Szabo ...|            |\"\"\"3101 Washingto...| McMurray|   PA|    15317.0|40.2916853| -80.1048999|  3.0|        11.0|    1.0|Hair Stylists;Hai...|\n",
      "|KQPW8lFf1y5BT2Mxi...|\"\"\"Western Motor ...|            |\"\"\"6025 N 27th Av...|  Phoenix|   AZ|    85017.0|33.5249025|-112.1153098|  1.5|        18.0|    1.0|Departments of Mo...|\n",
      "+--------------------+--------------------+------------+--------------------+---------+-----+-----------+----------+------------+-----+------------+-------+--------------------+\n",
      "only showing top 3 rows\n",
      "\n"
     ]
    }
   ],
   "source": [
    "business_df.show(3)"
   ]
  },
  {
   "cell_type": "code",
   "execution_count": 34,
   "metadata": {},
   "outputs": [
    {
     "name": "stdout",
     "output_type": "stream",
     "text": [
      "root\n",
      " |-- business_id: string (nullable = true)\n",
      " |-- name: string (nullable = true)\n",
      " |-- neighborhood: string (nullable = true)\n",
      " |-- address: string (nullable = true)\n",
      " |-- city: string (nullable = true)\n",
      " |-- state: string (nullable = true)\n",
      " |-- postal_code: double (nullable = true)\n",
      " |-- latitude: double (nullable = true)\n",
      " |-- longitude: double (nullable = true)\n",
      " |-- stars: double (nullable = true)\n",
      " |-- review_count: double (nullable = true)\n",
      " |-- is_open: double (nullable = true)\n",
      " |-- categories: string (nullable = true)\n",
      "\n"
     ]
    }
   ],
   "source": [
    "business_df.printSchema()"
   ]
  },
  {
   "cell_type": "code",
   "execution_count": 41,
   "metadata": {},
   "outputs": [
    {
     "name": "stdout",
     "output_type": "stream",
     "text": [
      "+--------------------+--------------------+------------+--------------------+--------------+-----+-----------+----------+-----------+-----+------------+-------+--------------------+\n",
      "|         business_id|                name|neighborhood|             address|          city|state|postal_code|  latitude|  longitude|stars|review_count|is_open|          categories|\n",
      "+--------------------+--------------------+------------+--------------------+--------------+-----+-----------+----------+-----------+-----+------------+-------+--------------------+\n",
      "|PfOCPjBrlQAnz__NX...|\"\"\"Brick House Ta...|            |  \"\"\"581 Howe Ave\"\"\"|Cuyahoga Falls|   OH|    44221.0|41.1195346|-81.4756898|  3.5|       116.0|    1.0|American (New);Ni...|\n",
      "|o9eMRCWt5PkpLDE0g...|       \"\"\"Messina\"\"\"|            |\"\"\"Richterstr. 11\"\"\"|     Stuttgart|   BW|    70567.0|   48.7272|    9.14795|  4.0|         5.0|    1.0| Italian;Restaurants|\n",
      "+--------------------+--------------------+------------+--------------------+--------------+-----+-----------+----------+-----------+-----+------------+-------+--------------------+\n",
      "only showing top 2 rows\n",
      "\n"
     ]
    }
   ],
   "source": [
    "# Filter and keep only restaurants that are opened\n",
    "restaurants_df = business_df.filter(business_df['categories'].contains('Restaurant')).filter(business_df['is_open']==1)\n",
    "restaurants_df.show(2)"
   ]
  },
  {
   "cell_type": "code",
   "execution_count": 40,
   "metadata": {},
   "outputs": [
    {
     "data": {
      "text/plain": [
       "54630"
      ]
     },
     "execution_count": 40,
     "metadata": {},
     "output_type": "execute_result"
    }
   ],
   "source": [
    "restaurants_df.count()"
   ]
  },
  {
   "cell_type": "code",
   "execution_count": 43,
   "metadata": {},
   "outputs": [
    {
     "name": "stdout",
     "output_type": "stream",
     "text": [
      "+--------------------+----------+-----------+-----+------------+\n",
      "|         business_id|  latitude|  longitude|stars|review_count|\n",
      "+--------------------+----------+-----------+-----+------------+\n",
      "|PfOCPjBrlQAnz__NX...|41.1195346|-81.4756898|  3.5|       116.0|\n",
      "|o9eMRCWt5PkpLDE0g...|   48.7272|    9.14795|  4.0|         5.0|\n",
      "|fNMVV_ZX7CJSDWQGd...|35.2216474|-80.8393449|  3.5|         7.0|\n",
      "+--------------------+----------+-----------+-----+------------+\n",
      "only showing top 3 rows\n",
      "\n"
     ]
    }
   ],
   "source": [
    "# Keep only interesting variables\n",
    "restaurants_df = restaurants_df.select(\"business_id\", \"latitude\", \"longitude\", \"stars\", \"review_count\")\n",
    "restaurants_df.show(3)"
   ]
  },
  {
   "cell_type": "code",
   "execution_count": 54,
   "metadata": {},
   "outputs": [
    {
     "name": "stdout",
     "output_type": "stream",
     "text": [
      "0\n",
      "0\n",
      "0\n",
      "0\n",
      "0\n"
     ]
    }
   ],
   "source": [
    "# No Null values\n",
    "print(restaurants_df.filter(restaurants_df.review_count.isNull()).count())\n",
    "print(restaurants_df.filter(restaurants_df.business_id.isNull()).count())\n",
    "print(restaurants_df.filter(restaurants_df.longitude.isNull()).count())\n",
    "print(restaurants_df.filter(restaurants_df.latitude.isNull()).count())\n",
    "print(restaurants_df.filter(restaurants_df.stars.isNull()).count())"
   ]
  },
  {
   "cell_type": "markdown",
   "metadata": {},
   "source": [
    "# Process business attributes"
   ]
  },
  {
   "cell_type": "code",
   "execution_count": 79,
   "metadata": {},
   "outputs": [],
   "source": [
    "attributes_df = ss.read.csv(\"s3n://usfca-distributedcomputing/yelp_business_attributes.csv\", header=True)"
   ]
  },
  {
   "cell_type": "code",
   "execution_count": 80,
   "metadata": {},
   "outputs": [
    {
     "name": "stdout",
     "output_type": "stream",
     "text": [
      "root\n",
      " |-- BusinessAcceptsCreditCards: string (nullable = true)\n",
      " |-- BusinessParking_garage: string (nullable = true)\n",
      " |-- BusinessParking_street: string (nullable = true)\n",
      " |-- BusinessParking_lot: string (nullable = true)\n",
      " |-- BusinessParking_valet: string (nullable = true)\n",
      " |-- WheelchairAccessible: string (nullable = true)\n",
      " |-- BikeParking: string (nullable = true)\n",
      " |-- Alcohol: string (nullable = true)\n",
      " |-- HappyHour: string (nullable = true)\n",
      " |-- OutdoorSeating: string (nullable = true)\n",
      " |-- DogsAllowed: string (nullable = true)\n",
      " |-- business_id: string (nullable = true)\n",
      "\n"
     ]
    }
   ],
   "source": [
    "attributes_df = attributes_df.select(\"BusinessAcceptsCreditCards\", \"BusinessParking_garage\",\n",
    "                                     \"BusinessParking_street\", \"BusinessParking_lot\",\n",
    "                                     \"BusinessParking_valet\", \"WheelchairAccessible\", \n",
    "                                     \"BikeParking\", \"Alcohol\", \"HappyHour\", \"OutdoorSeating\",\n",
    "                                     \"DogsAllowed\", \"business_id\")\n",
    "attributes_df.printSchema()"
   ]
  },
  {
   "cell_type": "code",
   "execution_count": 81,
   "metadata": {},
   "outputs": [],
   "source": [
    "# Create Parking boolean column if Car parking available\n",
    "attributes_df = attributes_df.withColumn(\"Parking\",\n",
    "                                         (attributes_df['BusinessParking_garage'] == 'True') | \n",
    "                                         (attributes_df['BusinessParking_street'] == 'True') |\n",
    "                                         (attributes_df['BusinessParking_lot'] == 'True') |\n",
    "                                         (attributes_df['BusinessParking_valet'] == 'True'))\n",
    "attributes_df = attributes_df.drop('BusinessParking_garage', 'BusinessParking_street',\n",
    "                                   'BusinessParking_lot', 'BusinessParking_valet')"
   ]
  },
  {
   "cell_type": "code",
   "execution_count": 83,
   "metadata": {},
   "outputs": [
    {
     "name": "stdout",
     "output_type": "stream",
     "text": [
      "root\n",
      " |-- BusinessAcceptsCreditCards: string (nullable = true)\n",
      " |-- WheelchairAccessible: string (nullable = true)\n",
      " |-- BikeParking: string (nullable = true)\n",
      " |-- Alcohol: string (nullable = true)\n",
      " |-- HappyHour: string (nullable = true)\n",
      " |-- OutdoorSeating: string (nullable = true)\n",
      " |-- DogsAllowed: string (nullable = true)\n",
      " |-- business_id: string (nullable = true)\n",
      " |-- Parking: boolean (nullable = true)\n",
      "\n"
     ]
    }
   ],
   "source": [
    "attributes_df.printSchema()"
   ]
  },
  {
   "cell_type": "code",
   "execution_count": 84,
   "metadata": {},
   "outputs": [],
   "source": [
    "# Create boolean values for all variables\n",
    "attributes_df = attributes_df.withColumn(\"Accepts_Credit_Cards\", \n",
    "                                         attributes_df['BusinessAcceptsCreditCards'] == 'True')\n",
    "attributes_df = attributes_df.withColumn(\"Wheelchair_Accessible\", \n",
    "                                         attributes_df['WheelchairAccessible'] == 'True')\n",
    "attributes_df = attributes_df.withColumn(\"Bike_Parking\", \n",
    "                                         attributes_df['BikeParking'] == 'True')\n",
    "attributes_df = attributes_df.withColumn(\"Alcohol_drinks\", \n",
    "                                         attributes_df['Alcohol'] == 'True')\n",
    "attributes_df = attributes_df.withColumn(\"Happy_Hour\", \n",
    "                                         attributes_df['HappyHour'] == 'True')\n",
    "attributes_df = attributes_df.withColumn(\"Outdoor_Seating\", \n",
    "                                         attributes_df['OutdoorSeating'] == 'True')\n",
    "attributes_df = attributes_df.withColumn(\"Dogs_Allowed\", \n",
    "                                         attributes_df['DogsAllowed'] == 'True')\n",
    "\n",
    "\n",
    "attributes_df = attributes_df.drop('BusinessAcceptsCreditCards', 'WheelchairAccessible', 'BikeParking',\n",
    "                                   'Alcohol', 'HappyHour', 'OutdoorSeating', 'DogsAllowed')"
   ]
  },
  {
   "cell_type": "code",
   "execution_count": 85,
   "metadata": {},
   "outputs": [
    {
     "name": "stdout",
     "output_type": "stream",
     "text": [
      "root\n",
      " |-- business_id: string (nullable = true)\n",
      " |-- Parking: boolean (nullable = true)\n",
      " |-- Accepts_Credit_Cards: boolean (nullable = true)\n",
      " |-- Wheelchair_Accessible: boolean (nullable = true)\n",
      " |-- Bike_Parking: boolean (nullable = true)\n",
      " |-- Alcohol_drinks: boolean (nullable = true)\n",
      " |-- Happy_Hour: boolean (nullable = true)\n",
      " |-- Outdoor_Seating: boolean (nullable = true)\n",
      " |-- Dogs_Allowed: boolean (nullable = true)\n",
      "\n"
     ]
    }
   ],
   "source": [
    "attributes_df.printSchema()"
   ]
  },
  {
   "cell_type": "markdown",
   "metadata": {},
   "source": [
    "# Process Checkin"
   ]
  },
  {
   "cell_type": "code",
   "execution_count": 110,
   "metadata": {},
   "outputs": [
    {
     "name": "stdout",
     "output_type": "stream",
     "text": [
      "+--------------------+-------+-----+--------+\n",
      "|         business_id|weekday| hour|checkins|\n",
      "+--------------------+-------+-----+--------+\n",
      "|3Mc-LxcqeguOXOVT_...|    Tue| 0:00|      12|\n",
      "|SVFx6_epO22bZTZnK...|    Wed| 0:00|       4|\n",
      "|vW9aLivd4-IorAfSt...|    Tue|14:00|       1|\n",
      "|tEzxhauTQddACyqdJ...|    Fri|19:00|       1|\n",
      "|CEyZU32P-vtMhgqRC...|    Tue|17:00|       1|\n",
      "+--------------------+-------+-----+--------+\n",
      "only showing top 5 rows\n",
      "\n",
      "root\n",
      " |-- business_id: string (nullable = true)\n",
      " |-- weekday: string (nullable = true)\n",
      " |-- hour: string (nullable = true)\n",
      " |-- checkins: integer (nullable = true)\n",
      "\n"
     ]
    }
   ],
   "source": [
    "checkin_df = ss.read.csv(\"s3n://usfca-distributedcomputing/yelp_checkin.csv\", inferSchema=True, header=True)\n",
    "checkin_df.show(5)\n",
    "checkin_df.printSchema()"
   ]
  },
  {
   "cell_type": "code",
   "execution_count": 111,
   "metadata": {},
   "outputs": [
    {
     "name": "stdout",
     "output_type": "stream",
     "text": [
      "0\n",
      "0\n",
      "0\n",
      "0\n"
     ]
    }
   ],
   "source": [
    "# check null\n",
    "print(checkin_df.where(checkin_df.business_id.isNull()).count())\n",
    "print(checkin_df.where(checkin_df.weekday.isNull()).count())\n",
    "print(checkin_df.where(checkin_df.hour.isNull()).count())\n",
    "print(checkin_df.where(checkin_df.checkins.isNull()).count())"
   ]
  },
  {
   "cell_type": "code",
   "execution_count": 112,
   "metadata": {},
   "outputs": [
    {
     "name": "stdout",
     "output_type": "stream",
     "text": [
      "+--------------------+-----+\n",
      "|         business_id|count|\n",
      "+--------------------+-----+\n",
      "|DYAorbxOyubUB_wtQ...|  168|\n",
      "|yfxDa8RFOvJPQh0rN...|  168|\n",
      "|ccGIAOl08zHt2lcn_...|  168|\n",
      "|IB8zLlGraOg9LU7qQ...|  168|\n",
      "|ByFMv3p5X1aNeZhU6...|  168|\n",
      "|YzuWj3u9BZRpxNmd1...|  168|\n",
      "|VxCnyVYn-FFgv6F1E...|  168|\n",
      "|DfgZlNgKwBvCpA_0a...|  168|\n",
      "|p0iEUamJVp_QpaheE...|  168|\n",
      "|IWKtGvVg4hqc9rWHj...|  168|\n",
      "+--------------------+-----+\n",
      "only showing top 10 rows\n",
      "\n"
     ]
    }
   ],
   "source": [
    "# counts of business_id, max 168 (7*24)\n",
    "id_ct = checkin_df.groupBy(\"business_id\").count().orderBy(\"count\", ascending=False)\n",
    "id_ct.show(10)"
   ]
  },
  {
   "cell_type": "code",
   "execution_count": 113,
   "metadata": {},
   "outputs": [
    {
     "name": "stdout",
     "output_type": "stream",
     "text": [
      "+-------+------+\n",
      "|weekday| count|\n",
      "+-------+------+\n",
      "|    Sun|567181|\n",
      "|    Mon|500373|\n",
      "|    Thu|545489|\n",
      "|    Sat|653551|\n",
      "|    Wed|537730|\n",
      "|    Tue|522104|\n",
      "|    Fri|584790|\n",
      "+-------+------+\n",
      "\n"
     ]
    }
   ],
   "source": [
    "# evenly distributed\n",
    "checkin_df.groupBy(\"weekday\").count().show()"
   ]
  },
  {
   "cell_type": "code",
   "execution_count": 115,
   "metadata": {},
   "outputs": [],
   "source": [
    "checkin_df.write.option(\"path\", \"s3n://usfca-distributedcomputing/checkin_df\").saveAsTable(\"checkin_df\")"
   ]
  },
  {
   "cell_type": "code",
   "execution_count": 117,
   "metadata": {},
   "outputs": [
    {
     "name": "stdout",
     "output_type": "stream",
     "text": [
      "2090061\n",
      "+--------------------+-------+-----+--------+\n",
      "|         business_id|weekday| hour|checkins|\n",
      "+--------------------+-------+-----+--------+\n",
      "|--9e1ONYQuAa-CB_R...|    Mon| 3:00|      46|\n",
      "|--9e1ONYQuAa-CB_R...|    Wed|22:00|       2|\n",
      "|--9e1ONYQuAa-CB_R...|    Fri| 0:00|      11|\n",
      "|--9e1ONYQuAa-CB_R...|    Tue|14:00|       1|\n",
      "|--9e1ONYQuAa-CB_R...|    Thu| 2:00|      53|\n",
      "|--9e1ONYQuAa-CB_R...|    Sun| 4:00|     133|\n",
      "|--9e1ONYQuAa-CB_R...|    Fri|17:00|       1|\n",
      "|--9e1ONYQuAa-CB_R...|    Mon|21:00|       6|\n",
      "|--9e1ONYQuAa-CB_R...|    Tue|20:00|       9|\n",
      "|--9e1ONYQuAa-CB_R...|    Sat|22:00|      10|\n",
      "|--9e1ONYQuAa-CB_R...|    Tue| 5:00|      17|\n",
      "|--9e1ONYQuAa-CB_R...|    Sat|18:00|      12|\n",
      "|--9e1ONYQuAa-CB_R...|    Fri|23:00|       3|\n",
      "|--9e1ONYQuAa-CB_R...|    Wed|20:00|      10|\n",
      "|--9e1ONYQuAa-CB_R...|    Sat|23:00|       6|\n",
      "|--9e1ONYQuAa-CB_R...|    Sat| 0:00|      19|\n",
      "|--9e1ONYQuAa-CB_R...|    Tue|19:00|      13|\n",
      "|--9e1ONYQuAa-CB_R...|    Sun|13:00|       1|\n",
      "|--9e1ONYQuAa-CB_R...|    Thu|16:00|       1|\n",
      "|--9e1ONYQuAa-CB_R...|    Sun|22:00|      10|\n",
      "+--------------------+-------+-----+--------+\n",
      "only showing top 20 rows\n",
      "\n"
     ]
    }
   ],
   "source": [
    "# keep ids with at least 7*8=56 occurences\n",
    "checkin_v1 = ss.sql(\"with checkin as (select * from parquet.`s3n://usfca-distributedcomputing/checkin_df`) \\\n",
    "                     , id_ct as (select business_id, count(*) as ct from checkin group by business_id having ct >= 56) \\\n",
    "                     select * from checkin where business_id in (select business_id from id_ct)\")\n",
    "print(checkin_v1.count())\n",
    "checkin_v1.show()"
   ]
  },
  {
   "cell_type": "code",
   "execution_count": 120,
   "metadata": {},
   "outputs": [],
   "source": [
    "def is_weekend(day):\n",
    "    if day in [\"Sat\", \"Sun\"]:\n",
    "        return \"Weekend\"\n",
    "    else:\n",
    "        return \"Weekday\"\n",
    "    \n",
    "check_is_weekend = udf(is_weekend)"
   ]
  },
  {
   "cell_type": "code",
   "execution_count": 121,
   "metadata": {},
   "outputs": [
    {
     "name": "stdout",
     "output_type": "stream",
     "text": [
      "+--------------------+-----+--------+-------+-------+\n",
      "|         business_id| hour|checkins|weekday|weekend|\n",
      "+--------------------+-----+--------+-------+-------+\n",
      "|--9e1ONYQuAa-CB_R...| 3:00|      46|    Mon|Weekday|\n",
      "|--9e1ONYQuAa-CB_R...|22:00|       2|    Wed|Weekday|\n",
      "|--9e1ONYQuAa-CB_R...| 0:00|      11|    Fri|Weekday|\n",
      "+--------------------+-----+--------+-------+-------+\n",
      "only showing top 3 rows\n",
      "\n"
     ]
    }
   ],
   "source": [
    "# flag weekend\n",
    "checkin_v1 = checkin_v1.select([\"business_id\", \"hour\", \"checkins\", \"weekday\", check_is_weekend(\"weekday\")])\n",
    "checkin_v1 = checkin_v1.withColumnRenamed(\"is_weekend(weekday)\", \"weekend\")\n",
    "checkin_v1.show(3)"
   ]
  },
  {
   "cell_type": "code",
   "execution_count": 122,
   "metadata": {},
   "outputs": [
    {
     "name": "stdout",
     "output_type": "stream",
     "text": [
      "24450\n",
      "+--------------------+------------------+------------------+\n",
      "|         business_id|           Weekday|           Weekend|\n",
      "+--------------------+------------------+------------------+\n",
      "|6rFjfFSavabsIxEKu...|1.1428571428571428|2.6363636363636362|\n",
      "|fYqr99HXATERIGXQm...| 3.511627906976744|2.9583333333333335|\n",
      "|0bqV9uzFVz98Bn_RI...| 5.087719298245614| 4.208333333333333|\n",
      "|V_maCS_uBRMjqa_BC...|1.9642857142857142|               1.7|\n",
      "|0859wfd1BQHG46Zpw...| 8.036363636363637|              11.0|\n",
      "+--------------------+------------------+------------------+\n",
      "only showing top 5 rows\n",
      "\n"
     ]
    }
   ],
   "source": [
    "# average hourly checkin numbers\n",
    "avg_hourly_checkin = checkin_v1.groupBy([\"business_id\"]).pivot(\"weekend\").agg(avg(\"checkins\"))\n",
    "print(avg_hourly_checkin.count())\n",
    "avg_hourly_checkin.show(5)"
   ]
  },
  {
   "cell_type": "markdown",
   "metadata": {},
   "source": [
    "# Join the data"
   ]
  },
  {
   "cell_type": "code",
   "execution_count": 88,
   "metadata": {},
   "outputs": [],
   "source": [
    "# Left_outer join\n",
    "joined_df = restaurants_df.join(attributes_df, 'business_id', 'left_outer')"
   ]
  },
  {
   "cell_type": "code",
   "execution_count": 92,
   "metadata": {},
   "outputs": [
    {
     "name": "stdout",
     "output_type": "stream",
     "text": [
      "+--------------------+----------+-----------+-----+------------+-------+--------------------+---------------------+------------+--------------+----------+---------------+------------+\n",
      "|         business_id|  latitude|  longitude|stars|review_count|Parking|Accepts_Credit_Cards|Wheelchair_Accessible|Bike_Parking|Alcohol_drinks|Happy_Hour|Outdoor_Seating|Dogs_Allowed|\n",
      "+--------------------+----------+-----------+-----+------------+-------+--------------------+---------------------+------------+--------------+----------+---------------+------------+\n",
      "|PfOCPjBrlQAnz__NX...|41.1195346|-81.4756898|  3.5|       116.0|  false|               false|                false|       false|         false|     false|          false|       false|\n",
      "|o9eMRCWt5PkpLDE0g...|   48.7272|    9.14795|  4.0|         5.0|  false|               false|                false|       false|         false|     false|          false|       false|\n",
      "+--------------------+----------+-----------+-----+------------+-------+--------------------+---------------------+------------+--------------+----------+---------------+------------+\n",
      "only showing top 2 rows\n",
      "\n"
     ]
    }
   ],
   "source": [
    "joined_df.show(2)"
   ]
  },
  {
   "cell_type": "code",
   "execution_count": 93,
   "metadata": {},
   "outputs": [
    {
     "name": "stdout",
     "output_type": "stream",
     "text": [
      "root\n",
      " |-- business_id: string (nullable = true)\n",
      " |-- latitude: double (nullable = true)\n",
      " |-- longitude: double (nullable = true)\n",
      " |-- stars: double (nullable = true)\n",
      " |-- review_count: double (nullable = true)\n",
      " |-- Parking: boolean (nullable = true)\n",
      " |-- Accepts_Credit_Cards: boolean (nullable = true)\n",
      " |-- Wheelchair_Accessible: boolean (nullable = true)\n",
      " |-- Bike_Parking: boolean (nullable = true)\n",
      " |-- Alcohol_drinks: boolean (nullable = true)\n",
      " |-- Happy_Hour: boolean (nullable = true)\n",
      " |-- Outdoor_Seating: boolean (nullable = true)\n",
      " |-- Dogs_Allowed: boolean (nullable = true)\n",
      "\n"
     ]
    }
   ],
   "source": [
    "joined_df.printSchema()"
   ]
  },
  {
   "cell_type": "code",
   "execution_count": 96,
   "metadata": {},
   "outputs": [
    {
     "name": "stdout",
     "output_type": "stream",
     "text": [
      "+-------+-----+\n",
      "|Parking|count|\n",
      "+-------+-----+\n",
      "|  false|28652|\n",
      "|   true|10885|\n",
      "|   null|  868|\n",
      "+-------+-----+\n",
      "\n"
     ]
    }
   ],
   "source": [
    "# We had some restaurant from business table not in business_attributes\n",
    "# Need to treat the null values\n",
    "joined_df.groupBy(joined_df[\"Parking\"]).count().orderBy(\"count\", ascending=False).show()"
   ]
  },
  {
   "cell_type": "code",
   "execution_count": 108,
   "metadata": {},
   "outputs": [],
   "source": [
    "# Replace null values by false (most common value)\n",
    "joined_df = joined_df.na.fill(False)"
   ]
  },
  {
   "cell_type": "code",
   "execution_count": 109,
   "metadata": {},
   "outputs": [
    {
     "name": "stdout",
     "output_type": "stream",
     "text": [
      "+-------+-----+\n",
      "|Parking|count|\n",
      "+-------+-----+\n",
      "|  false|29520|\n",
      "|   true|10885|\n",
      "+-------+-----+\n",
      "\n"
     ]
    }
   ],
   "source": [
    "joined_df.groupBy(joined_df[\"Parking\"]).count().orderBy(\"count\", ascending=False).show()"
   ]
  },
  {
   "cell_type": "code",
   "execution_count": 124,
   "metadata": {},
   "outputs": [],
   "source": [
    "joined_df = joined_df.join(avg_hourly_checkin, 'business_id')"
   ]
  },
  {
   "cell_type": "code",
   "execution_count": 125,
   "metadata": {},
   "outputs": [
    {
     "name": "stdout",
     "output_type": "stream",
     "text": [
      "root\n",
      " |-- business_id: string (nullable = true)\n",
      " |-- latitude: double (nullable = true)\n",
      " |-- longitude: double (nullable = true)\n",
      " |-- stars: double (nullable = true)\n",
      " |-- review_count: double (nullable = true)\n",
      " |-- Parking: boolean (nullable = false)\n",
      " |-- Accepts_Credit_Cards: boolean (nullable = false)\n",
      " |-- Wheelchair_Accessible: boolean (nullable = false)\n",
      " |-- Bike_Parking: boolean (nullable = false)\n",
      " |-- Alcohol_drinks: boolean (nullable = false)\n",
      " |-- Happy_Hour: boolean (nullable = false)\n",
      " |-- Outdoor_Seating: boolean (nullable = false)\n",
      " |-- Dogs_Allowed: boolean (nullable = false)\n",
      " |-- Weekday: double (nullable = true)\n",
      " |-- Weekend: double (nullable = true)\n",
      "\n"
     ]
    }
   ],
   "source": [
    "joined_df.printSchema()"
   ]
  },
  {
   "cell_type": "markdown",
   "metadata": {},
   "source": [
    "# Save data"
   ]
  },
  {
   "cell_type": "code",
   "execution_count": null,
   "metadata": {},
   "outputs": [],
   "source": [
    "joined_df.write.option(\"path\", \"s3n://usfca-distributedcomputing/yelp_data\").saveAsTable('yelp_data')"
   ]
  },
  {
   "cell_type": "markdown",
   "metadata": {},
   "source": [
    "# Read data"
   ]
  },
  {
   "cell_type": "code",
   "execution_count": null,
   "metadata": {},
   "outputs": [],
   "source": [
    "ss.sql(\"select * from parquet.`s3n://usfca-distributedcomputing/yelp_data`\").show(3)"
   ]
  },
  {
   "cell_type": "code",
   "execution_count": null,
   "metadata": {},
   "outputs": [],
   "source": []
  }
 ],
 "metadata": {
  "kernelspec": {
   "display_name": "Python 3",
   "language": "python",
   "name": "python3"
  },
  "language_info": {
   "codemirror_mode": {
    "name": "ipython",
    "version": 3
   },
   "file_extension": ".py",
   "mimetype": "text/x-python",
   "name": "python",
   "nbconvert_exporter": "python",
   "pygments_lexer": "ipython3",
   "version": "3.7.4"
  }
 },
 "nbformat": 4,
 "nbformat_minor": 2
}
